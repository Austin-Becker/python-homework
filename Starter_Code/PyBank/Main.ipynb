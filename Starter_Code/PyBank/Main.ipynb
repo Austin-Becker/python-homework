{
 "cells": [
  {
   "cell_type": "code",
   "execution_count": 125,
   "id": "263f3b71-72a7-48f4-919a-f5e7b1569fbf",
   "metadata": {},
   "outputs": [],
   "source": [
    "#Import Pandas and dependencies.\n",
    "import pandas as pd\n",
    "from pathlib import Path"
   ]
  },
  {
   "cell_type": "code",
   "execution_count": 126,
   "id": "e200679e-3f0e-4bf7-9d9a-e5cab8770157",
   "metadata": {},
   "outputs": [
    {
     "name": "stdout",
     "output_type": "stream",
     "text": [
      "{'Feb-2017': 671099, 'Jan-2010': 867884, 'Feb-2010': 984655, 'Mar-2010': 322013, 'Apr-2010': -69417, 'May-2010': 310503, 'Jun-2010': 522857, 'Jul-2010': 1033096, 'Aug-2010': 604885, 'Sep-2010': -216386, 'Oct-2010': 477532, 'Nov-2010': 893810, 'Dec-2010': -80353, 'Jan-2011': 779806, 'Feb-2011': -335203, 'Mar-2011': 697845, 'Apr-2011': 793163, 'May-2011': 485070, 'Jun-2011': 584122, 'Jul-2011': 62729, 'Aug-2011': 668179, 'Sep-2011': 899906, 'Oct-2011': 834719, 'Nov-2011': 132003, 'Dec-2011': 309978, 'Jan-2012': -755566, 'Feb-2012': 1170593, 'Mar-2012': 252788, 'Apr-2012': 1151518, 'May-2012': 817256, 'Jun-2012': 570757, 'Jul-2012': 506702, 'Aug-2012': -1022534, 'Sep-2012': 475062, 'Oct-2012': 779976, 'Nov-2012': 144175, 'Dec-2012': 542494, 'Jan-2013': 359333, 'Feb-2013': 321469, 'Mar-2013': 67780, 'Apr-2013': 471435, 'May-2013': 565603, 'Jun-2013': 872480, 'Jul-2013': 789480, 'Aug-2013': 999942, 'Sep-2013': -1196225, 'Oct-2013': 268997, 'Nov-2013': -687986, 'Dec-2013': 1150461, 'Jan-2014': 682458, 'Feb-2014': 617856, 'Mar-2014': 824098, 'Apr-2014': 581943, 'May-2014': 132864, 'Jun-2014': 448062, 'Jul-2014': 689161, 'Aug-2014': 800701, 'Sep-2014': 1166643, 'Oct-2014': 947333, 'Nov-2014': 578668, 'Dec-2014': 988505, 'Jan-2015': 1139715, 'Feb-2015': 1029471, 'Mar-2015': 687533, 'Apr-2015': -524626, 'May-2015': 158620, 'Jun-2015': 87795, 'Jul-2015': 423389, 'Aug-2015': 840723, 'Sep-2015': 568529, 'Oct-2015': 332067, 'Nov-2015': 989499, 'Dec-2015': 778237, 'Jan-2016': 650000, 'Feb-2016': -1100387, 'Mar-2016': -174946, 'Apr-2016': 757143, 'May-2016': 445709, 'Jun-2016': 712961, 'Jul-2016': -1163797, 'Aug-2016': 569899, 'Sep-2016': 768450, 'Oct-2016': 102685, 'Nov-2016': 795914, 'Dec-2016': 60988, 'Jan-2017': 138230}\n"
     ]
    }
   ],
   "source": [
    "# Read the CSV file into a DataFrame, skip the first row\n",
    "budget_data = pd.read_csv('Resources/budget_data.csv')\n",
    "\n",
    "# Initialize an empty dictionary\n",
    "data = {key:value}\n",
    "\n",
    "# Loop over the rows of the DataFrame\n",
    "for date, row in budget_data.iterrows():\n",
    "  # Extract the values of the \"Date\" and \"Profit/Losses\" columns to their respective pair list\n",
    "  key = row[0]\n",
    "  value = row[1]\n",
    "  \n",
    "  # Add the key-value pair to the dictionary\n",
    "  data[key] = value\n",
    "\n",
    "# Print the dictionary\n",
    "print(data)\n"
   ]
  },
  {
   "cell_type": "code",
   "execution_count": 131,
   "id": "2d3d37cb-f78d-47b2-97b1-48fe4b15a3a9",
   "metadata": {},
   "outputs": [
    {
     "name": "stdout",
     "output_type": "stream",
     "text": [
      "        Date  Profit/Losses\n",
      "0   Jan-2010         867884\n",
      "1   Feb-2010         984655\n",
      "2   Mar-2010         322013\n",
      "3   Apr-2010         -69417\n",
      "4   May-2010         310503\n",
      "..       ...            ...\n",
      "81  Oct-2016         102685\n",
      "82  Nov-2016         795914\n",
      "83  Dec-2016          60988\n",
      "84  Jan-2017         138230\n",
      "85  Feb-2017         671099\n",
      "\n",
      "[86 rows x 2 columns]\n"
     ]
    }
   ],
   "source": [
    "#for reference\n",
    "print(budget_data)"
   ]
  },
  {
   "cell_type": "code",
   "execution_count": 127,
   "id": "c7eec859-987d-4df0-a99d-d1475c65f7a4",
   "metadata": {},
   "outputs": [
    {
     "data": {
      "text/html": [
       "<div>\n",
       "<style scoped>\n",
       "    .dataframe tbody tr th:only-of-type {\n",
       "        vertical-align: middle;\n",
       "    }\n",
       "\n",
       "    .dataframe tbody tr th {\n",
       "        vertical-align: top;\n",
       "    }\n",
       "\n",
       "    .dataframe thead th {\n",
       "        text-align: right;\n",
       "    }\n",
       "</style>\n",
       "<table border=\"1\" class=\"dataframe\">\n",
       "  <thead>\n",
       "    <tr style=\"text-align: right;\">\n",
       "      <th></th>\n",
       "      <th>Date</th>\n",
       "      <th>Profit/Losses</th>\n",
       "    </tr>\n",
       "  </thead>\n",
       "  <tbody>\n",
       "    <tr>\n",
       "      <th>count</th>\n",
       "      <td>86</td>\n",
       "      <td>8.600000e+01</td>\n",
       "    </tr>\n",
       "    <tr>\n",
       "      <th>unique</th>\n",
       "      <td>86</td>\n",
       "      <td>NaN</td>\n",
       "    </tr>\n",
       "    <tr>\n",
       "      <th>top</th>\n",
       "      <td>Jan-2010</td>\n",
       "      <td>NaN</td>\n",
       "    </tr>\n",
       "    <tr>\n",
       "      <th>freq</th>\n",
       "      <td>1</td>\n",
       "      <td>NaN</td>\n",
       "    </tr>\n",
       "    <tr>\n",
       "      <th>mean</th>\n",
       "      <td>NaN</td>\n",
       "      <td>4.463090e+05</td>\n",
       "    </tr>\n",
       "    <tr>\n",
       "      <th>std</th>\n",
       "      <td>NaN</td>\n",
       "      <td>5.363579e+05</td>\n",
       "    </tr>\n",
       "    <tr>\n",
       "      <th>min</th>\n",
       "      <td>NaN</td>\n",
       "      <td>-1.196225e+06</td>\n",
       "    </tr>\n",
       "    <tr>\n",
       "      <th>25%</th>\n",
       "      <td>NaN</td>\n",
       "      <td>1.821620e+05</td>\n",
       "    </tr>\n",
       "    <tr>\n",
       "      <th>50%</th>\n",
       "      <td>NaN</td>\n",
       "      <td>5.703280e+05</td>\n",
       "    </tr>\n",
       "    <tr>\n",
       "      <th>75%</th>\n",
       "      <td>NaN</td>\n",
       "      <td>7.952262e+05</td>\n",
       "    </tr>\n",
       "    <tr>\n",
       "      <th>max</th>\n",
       "      <td>NaN</td>\n",
       "      <td>1.170593e+06</td>\n",
       "    </tr>\n",
       "  </tbody>\n",
       "</table>\n",
       "</div>"
      ],
      "text/plain": [
       "            Date  Profit/Losses\n",
       "count         86   8.600000e+01\n",
       "unique        86            NaN\n",
       "top     Jan-2010            NaN\n",
       "freq           1            NaN\n",
       "mean         NaN   4.463090e+05\n",
       "std          NaN   5.363579e+05\n",
       "min          NaN  -1.196225e+06\n",
       "25%          NaN   1.821620e+05\n",
       "50%          NaN   5.703280e+05\n",
       "75%          NaN   7.952262e+05\n",
       "max          NaN   1.170593e+06"
      ]
     },
     "execution_count": 127,
     "metadata": {},
     "output_type": "execute_result"
    }
   ],
   "source": [
    "# For reference.\n",
    "budget_data.describe(include='all')"
   ]
  },
  {
   "cell_type": "code",
   "execution_count": 128,
   "id": "d1d86df1-3d2a-47d9-b21b-ff7f7cf535cf",
   "metadata": {},
   "outputs": [],
   "source": [
    "#This was going to be a created list for calling at the end to return relevant data. \n",
    "\n",
    "#Create report dictionary for returning manipulated data.\n",
    "#report = ['Months', 'Profit', 'Average Change', 'Greatest Increase', 'Greatest Decrease']\n",
    "#print(report)"
   ]
  },
  {
   "cell_type": "code",
   "execution_count": 129,
   "id": "cba9cdea-5970-49b4-a15f-45e18b663e12",
   "metadata": {},
   "outputs": [],
   "source": [
    "# Initialize relevant data.\n",
    "months = 0\n",
    "total = 0\n",
    "profit = 0\n",
    "average_change = 0\n",
    "greatest_increase = 0\n",
    "greatest_decrease = 0\n",
    "\n",
    "# Loop used for months, greatest increase, and greatest decrease.\n",
    "for element in data.values():\n",
    "    total += element\n",
    "    months += 1\n",
    "    \n",
    "    if greatest_decrease == 0:\n",
    "        greatest_decrease = element\n",
    "    elif element < greatest_decrease:\n",
    "        greatest_decrease = element\n",
    "    elif element > greatest_increase:\n",
    "        greatest_increase = element\n",
    "  \n",
    "# Code for finding the key-value pair that matches the value. \n",
    "key_val_pair_dec = [(key, val) for key, val in data.items() if val == greatest_decrease]\n",
    "key_val_pair_inc = [(key, val) for key, val in data.items() if val == greatest_increase]\n",
    "\n",
    "# Print the key-value pair\n",
    "#print(key_val_pair_dec[0])\n",
    "#print(key_val_pair_inc[0])"
   ]
  },
  {
   "cell_type": "code",
   "execution_count": 130,
   "id": "d8760e0b-3c1b-462b-ad4c-087695108385",
   "metadata": {},
   "outputs": [],
   "source": [
    "# An additional way to to get the amount of months from data frame.\n",
    "total_month = len(budget_data)"
   ]
  },
  {
   "cell_type": "code",
   "execution_count": 132,
   "id": "6e85a20b-e220-4fdf-b34e-8ddc98ca4d97",
   "metadata": {},
   "outputs": [],
   "source": [
    "# Calculate the sum of profits using .sum() in DataFame\n",
    "net_profit = budget_data['Profit/Losses'].sum()"
   ]
  },
  {
   "cell_type": "code",
   "execution_count": 133,
   "id": "c2e466b2-2a12-49d8-b437-e2c09d3b00e4",
   "metadata": {},
   "outputs": [
    {
     "name": "stdout",
     "output_type": "stream",
     "text": [
      "-2315\n"
     ]
    }
   ],
   "source": [
    "#creating new list so to be able to run calculations via loop.\n",
    "num = []\n",
    "\n",
    "for value in budget_data['Profit/Losses']:\n",
    "    if value not in num:\n",
    "        num.append(value)\n",
    "\n",
    "#formula for rate of change with new list.\n",
    "average_change = round((num[-1] - num[0]) / (total_month - 1))"
   ]
  },
  {
   "cell_type": "code",
   "execution_count": 134,
   "id": "447c7761-69a2-4104-b4cb-f09e7683df5f",
   "metadata": {},
   "outputs": [
    {
     "name": "stdout",
     "output_type": "stream",
     "text": [
      "_________Financial Analysis__________\n",
      " Total Months: 86\n",
      " Total: $38382578\n",
      " Average Change: $-2315\n",
      " Greatest Increase in Profits: ('Feb-2012', 1170593)\n",
      " Greatest Decrease in Profits: ('Sep-2013', -1196225)\n"
     ]
    }
   ],
   "source": [
    "# Cell for displaying relevant data. These were intened to be .appended to a list \n",
    "# but ran out of time. \n",
    "print(\"_________Financial Analysis__________\") \n",
    "print(f' Total Months: {total_month}')\n",
    "print(f' Total: ${net_profit}')\n",
    "print(f' Average Change: ${average_change}')\n",
    "print(f' Greatest Increase in Profits: {key_val_pair_inc[0]}')\n",
    "print(f' Greatest Decrease in Profits: {key_val_pair_dec[0]}')"
   ]
  },
  {
   "cell_type": "code",
   "execution_count": null,
   "id": "07bd4c68-2921-4691-b3ce-5b686d94290d",
   "metadata": {},
   "outputs": [],
   "source": []
  }
 ],
 "metadata": {
  "kernelspec": {
   "display_name": "Python 3 (ipykernel)",
   "language": "python",
   "name": "python3"
  },
  "language_info": {
   "codemirror_mode": {
    "name": "ipython",
    "version": 3
   },
   "file_extension": ".py",
   "mimetype": "text/x-python",
   "name": "python",
   "nbconvert_exporter": "python",
   "pygments_lexer": "ipython3",
   "version": "3.7.15"
  }
 },
 "nbformat": 4,
 "nbformat_minor": 5
}
